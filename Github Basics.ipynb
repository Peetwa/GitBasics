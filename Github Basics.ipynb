{
 "cells": [
  {
   "cell_type": "markdown",
   "metadata": {},
   "source": [
    "# Github and Git Basics"
   ]
  },
  {
   "cell_type": "markdown",
   "metadata": {},
   "source": [
    "## Sign in for pizza please"
   ]
  },
  {
   "cell_type": "markdown",
   "metadata": {},
   "source": [
    "https://bit.ly/SH_GIT"
   ]
  },
  {
   "cell_type": "markdown",
   "metadata": {},
   "source": [
    "## What is Github\n",
    "Github is a web based project hosting service\n",
    "\n",
    "## Create an Account\n",
    "https://github.com\n",
    "\n",
    "## What is a repository?\n",
    "A repository or \"repo\" is a digital directory or storage space where a project and all its files and versions of the project are stored\n",
    "\n",
    "## Get Git\n",
    "https://git-scm.com/downloads\n",
    "\n",
    "## What is Git?\n",
    "Git is a version control system created in 2005 by Linus Torvalds. Linus Torvalds is also know for creating Linux Kernal. Git allows us to interact with github through the terminal.\n",
    "\n",
    "## Basic Commands\n",
    "git config --global user.name \"Peter Carras\"\n",
    "git config --global user.email \"carraspe@msu.edu\"\n",
    "\n",
    "git init\n",
    "\n",
    "* initializes a new repository\n",
    "\n",
    "git add 'filename'\n",
    "\n",
    "* adds a file to staging\n",
    "\n",
    "git add .\n",
    "\n",
    "* adds all files in directory to staging\n",
    "\n",
    "git commit -m 'commit message'\n",
    "\n",
    "* Commits the changes to the local repository but not the remote repository\n",
    "\n",
    "git commit -a\n",
    "\n",
    "* Commits files you've added to staging as well as any other files you have changed that are already part of the repo\n",
    "\n",
    "git push origin master\n",
    "\n",
    "* push the changes to the master branch of the remote repository\n",
    "\n",
    "git status\n",
    "\n",
    "* lists the files you've changed since your\n",
    "\n",
    "git remote add origin https://github.com/Peetwa/test.git\n",
    "\n",
    "* sets the remote repository as the origin\n",
    "\n",
    "git remote rm origin\n",
    "\n",
    "* removes the remote repository as the origin\n",
    "\n",
    "git remote -v\n",
    "\n",
    "* Shows the current remotes\n",
    "\n",
    "### how to create a readme in terminal\n",
    "echo \"# test\" >> README.md\n",
    "\n",
    "* not a git command just used to setup readme from the terminal\n",
    "\n",
    "### What to do if you broke your local repository\n",
    "git fetch origin\n",
    "\n",
    "* grabs the last known version of the repository\n",
    "\n",
    "git reset --hard origin/master\n",
    "\n",
    "* overrites your local repo witht he last known version of the repo\n"
   ]
  },
  {
   "cell_type": "code",
   "execution_count": null,
   "metadata": {},
   "outputs": [],
   "source": [
    "  "
   ]
  }
 ],
 "metadata": {
  "kernelspec": {
   "display_name": "Python 3",
   "language": "python",
   "name": "python3"
  },
  "language_info": {
   "codemirror_mode": {
    "name": "ipython",
    "version": 3
   },
   "file_extension": ".py",
   "mimetype": "text/x-python",
   "name": "python",
   "nbconvert_exporter": "python",
   "pygments_lexer": "ipython3",
   "version": "3.6.5"
  }
 },
 "nbformat": 4,
 "nbformat_minor": 2
}
